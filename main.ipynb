{
 "cells": [
  {
   "cell_type": "code",
   "execution_count": 1,
   "metadata": {},
   "outputs": [
    {
     "name": "stdout",
     "output_type": "stream",
     "text": [
      "12345678 87654321\n",
      "1234 5678 8765 4321\n",
      "1234 8765\n",
      "12 34 87 65\n",
      "12 87\n",
      "1 2 8 7\n",
      "1 8\n",
      "2 7\n",
      "3 15\n"
     ]
    },
    {
     "ename": "ValueError",
     "evalue": "invalid literal for int() with base 10: ''",
     "output_type": "error",
     "traceback": [
      "\u001b[0;31m---------------------------------------------------------------------------\u001b[0m",
      "\u001b[0;31mValueError\u001b[0m                                Traceback (most recent call last)",
      "Cell \u001b[0;32mIn [1], line 35\u001b[0m\n\u001b[1;32m     32\u001b[0m     \u001b[39mreturn\u001b[39;00m ac \u001b[39m*\u001b[39m \u001b[39m10\u001b[39m \u001b[39m*\u001b[39m\u001b[39m*\u001b[39m (n_2 \u001b[39m*\u001b[39m \u001b[39m2\u001b[39m) \u001b[39m+\u001b[39m bd \u001b[39m+\u001b[39m ad_bc \u001b[39m*\u001b[39m \u001b[39m10\u001b[39m \u001b[39m*\u001b[39m\u001b[39m*\u001b[39m n_2\n\u001b[1;32m     34\u001b[0m \u001b[39m# 実行\u001b[39;00m\n\u001b[0;32m---> 35\u001b[0m \u001b[39mprint\u001b[39m(karatsuba(\u001b[39m12345678\u001b[39;49m, \u001b[39m87654321\u001b[39;49m))\n",
      "Cell \u001b[0;32mIn [1], line 26\u001b[0m, in \u001b[0;36mkaratsuba\u001b[0;34m(x, y)\u001b[0m\n\u001b[1;32m     24\u001b[0m \u001b[39mprint\u001b[39m(a, b, c, d)\n\u001b[1;32m     25\u001b[0m \u001b[39m# 再帰的に計算\u001b[39;00m\n\u001b[0;32m---> 26\u001b[0m ac \u001b[39m=\u001b[39m karatsuba(a, c)\n\u001b[1;32m     27\u001b[0m bd \u001b[39m=\u001b[39m karatsuba(b, d)\n\u001b[1;32m     28\u001b[0m ad_bc \u001b[39m=\u001b[39m karatsuba(a \u001b[39m+\u001b[39m b, c \u001b[39m+\u001b[39m d) \u001b[39m-\u001b[39m ac \u001b[39m-\u001b[39m bd\n",
      "Cell \u001b[0;32mIn [1], line 26\u001b[0m, in \u001b[0;36mkaratsuba\u001b[0;34m(x, y)\u001b[0m\n\u001b[1;32m     24\u001b[0m \u001b[39mprint\u001b[39m(a, b, c, d)\n\u001b[1;32m     25\u001b[0m \u001b[39m# 再帰的に計算\u001b[39;00m\n\u001b[0;32m---> 26\u001b[0m ac \u001b[39m=\u001b[39m karatsuba(a, c)\n\u001b[1;32m     27\u001b[0m bd \u001b[39m=\u001b[39m karatsuba(b, d)\n\u001b[1;32m     28\u001b[0m ad_bc \u001b[39m=\u001b[39m karatsuba(a \u001b[39m+\u001b[39m b, c \u001b[39m+\u001b[39m d) \u001b[39m-\u001b[39m ac \u001b[39m-\u001b[39m bd\n",
      "Cell \u001b[0;32mIn [1], line 28\u001b[0m, in \u001b[0;36mkaratsuba\u001b[0;34m(x, y)\u001b[0m\n\u001b[1;32m     26\u001b[0m ac \u001b[39m=\u001b[39m karatsuba(a, c)\n\u001b[1;32m     27\u001b[0m bd \u001b[39m=\u001b[39m karatsuba(b, d)\n\u001b[0;32m---> 28\u001b[0m ad_bc \u001b[39m=\u001b[39m karatsuba(a \u001b[39m+\u001b[39;49m b, c \u001b[39m+\u001b[39;49m d) \u001b[39m-\u001b[39m ac \u001b[39m-\u001b[39m bd\n\u001b[1;32m     29\u001b[0m \u001b[39m# 可視化\u001b[39;00m\n\u001b[1;32m     30\u001b[0m \u001b[39mprint\u001b[39m(ac, bd, ad_bc)\n",
      "Cell \u001b[0;32mIn [1], line 19\u001b[0m, in \u001b[0;36mkaratsuba\u001b[0;34m(x, y)\u001b[0m\n\u001b[1;32m     17\u001b[0m n_2 \u001b[39m=\u001b[39m n \u001b[39m/\u001b[39m\u001b[39m/\u001b[39m \u001b[39m2\u001b[39m\n\u001b[1;32m     18\u001b[0m \u001b[39m# x, yを2で割った値を取得\u001b[39;00m\n\u001b[0;32m---> 19\u001b[0m a \u001b[39m=\u001b[39m \u001b[39mint\u001b[39;49m(x[:\u001b[39m-\u001b[39;49mn_2])\n\u001b[1;32m     20\u001b[0m b \u001b[39m=\u001b[39m \u001b[39mint\u001b[39m(x[\u001b[39m-\u001b[39mn_2:])\n\u001b[1;32m     21\u001b[0m c \u001b[39m=\u001b[39m \u001b[39mint\u001b[39m(y[:\u001b[39m-\u001b[39mn_2])\n",
      "\u001b[0;31mValueError\u001b[0m: invalid literal for int() with base 10: ''"
     ]
    }
   ],
   "source": [
    "# 分割統治法\n",
    "# 12345678 × 87654321\n",
    "\n",
    "def karatsuba(x, y):\n",
    "    # 可視化\n",
    "    print(x, y)\n",
    "    # x, yを文字列に変換\n",
    "    x = str(x)\n",
    "    y = str(y)\n",
    "    # x, yの桁数を取得\n",
    "    n = max(len(x), len(y))\n",
    "    # x, yの桁数が1桁の場合\n",
    "    if n == 1:\n",
    "        return int(x) * int(y)\n",
    "\n",
    "    # x, yの桁数を2で割った値を取得\n",
    "    n_2 = n // 2\n",
    "    # x, yを2で割った値を取得\n",
    "    a = int(x[:-n_2])\n",
    "    b = int(x[-n_2:])\n",
    "    c = int(y[:-n_2])\n",
    "    d = int(y[-n_2:])\n",
    "    # 可視化\n",
    "    print(a, b, c, d)\n",
    "    # 再帰的に計算\n",
    "    ac = karatsuba(a, c)\n",
    "    bd = karatsuba(b, d)\n",
    "    ad_bc = karatsuba(a + b, c + d) - ac - bd\n",
    "    # 可視化\n",
    "    print(ac, bd, ad_bc)\n",
    "    # 結果を返す\n",
    "    return ac * 10 ** (n_2 * 2) + bd + ad_bc * 10 ** n_2\n",
    "\n",
    "# 実行\n",
    "print(karatsuba(12345678, 87654321))"
   ]
  },
  {
   "cell_type": "code",
   "execution_count": 4,
   "metadata": {},
   "outputs": [
    {
     "name": "stdout",
     "output_type": "stream",
     "text": [
      "karatsuba 1.1920928955078125e-06\n",
      "karatsuba 1.6689300537109375e-06\n",
      "karatsuba 9.5367431640625e-07\n",
      "karatsuba 0.0007281303405761719\n",
      "karatsuba 9.5367431640625e-07\n",
      "karatsuba 0.0\n",
      "karatsuba 1.1920928955078125e-06\n",
      "karatsuba 4.792213439941406e-05\n",
      "karatsuba 1.1920928955078125e-06\n",
      "karatsuba 1.1920928955078125e-06\n",
      "karatsuba 9.5367431640625e-07\n",
      "karatsuba 9.5367431640625e-07\n",
      "karatsuba 0.0\n",
      "karatsuba 4.38690185546875e-05\n",
      "karatsuba 0.000102996826171875\n",
      "karatsuba 0.0009222030639648438\n",
      "karatsuba 9.5367431640625e-07\n",
      "karatsuba 9.5367431640625e-07\n",
      "karatsuba 0.0\n",
      "karatsuba 4.1961669921875e-05\n",
      "karatsuba 1.1920928955078125e-06\n",
      "karatsuba 0.0\n",
      "karatsuba 0.0\n",
      "karatsuba 3.814697265625e-05\n",
      "karatsuba 9.5367431640625e-07\n",
      "karatsuba 1.1920928955078125e-06\n",
      "karatsuba 0.0\n",
      "karatsuba 9.5367431640625e-07\n",
      "karatsuba 1.1920928955078125e-06\n",
      "karatsuba 4.100799560546875e-05\n",
      "karatsuba 8.296966552734375e-05\n",
      "karatsuba 0.00020503997802734375\n",
      "karatsuba 9.5367431640625e-07\n",
      "karatsuba 9.5367431640625e-07\n",
      "karatsuba 0.0\n",
      "karatsuba 0.0\n",
      "karatsuba 9.5367431640625e-07\n",
      "karatsuba 3.814697265625e-05\n",
      "karatsuba 8.416175842285156e-05\n",
      "karatsuba 9.5367431640625e-07\n",
      "karatsuba 0.0\n",
      "karatsuba 9.5367431640625e-07\n",
      "karatsuba 4.1961669921875e-05\n",
      "karatsuba 9.5367431640625e-07\n",
      "karatsuba 9.5367431640625e-07\n",
      "karatsuba 0.0\n",
      "karatsuba 4.291534423828125e-05\n",
      "karatsuba 0.00021004676818847656\n",
      "karatsuba 0.0013828277587890625\n",
      "CPU times: user 1.28 ms, sys: 222 µs, total: 1.5 ms\n",
      "Wall time: 1.42 ms\n"
     ]
    },
    {
     "data": {
      "text/plain": [
       "1082152022374638"
      ]
     },
     "execution_count": 4,
     "metadata": {},
     "output_type": "execute_result"
    }
   ],
   "source": [
    "%%time\n",
    "karatsuba(12345678, 87654321)"
   ]
  },
  {
   "cell_type": "code",
   "execution_count": 5,
   "metadata": {},
   "outputs": [
    {
     "name": "stdout",
     "output_type": "stream",
     "text": [
      "CPU times: user 4 µs, sys: 0 ns, total: 4 µs\n",
      "Wall time: 7.87 µs\n"
     ]
    },
    {
     "data": {
      "text/plain": [
       "1082152022374638"
      ]
     },
     "execution_count": 5,
     "metadata": {},
     "output_type": "execute_result"
    }
   ],
   "source": [
    "%%time\n",
    "12345678 * 87654321"
   ]
  },
  {
   "cell_type": "code",
   "execution_count": null,
   "metadata": {},
   "outputs": [],
   "source": []
  }
 ],
 "metadata": {
  "kernelspec": {
   "display_name": "Python 3.11.0 64-bit",
   "language": "python",
   "name": "python3"
  },
  "language_info": {
   "codemirror_mode": {
    "name": "ipython",
    "version": 3
   },
   "file_extension": ".py",
   "mimetype": "text/x-python",
   "name": "python",
   "nbconvert_exporter": "python",
   "pygments_lexer": "ipython3",
   "version": "3.11.0"
  },
  "orig_nbformat": 4,
  "vscode": {
   "interpreter": {
    "hash": "1a1af0ee75eeea9e2e1ee996c87e7a2b11a0bebd85af04bb136d915cefc0abce"
   }
  }
 },
 "nbformat": 4,
 "nbformat_minor": 2
}
