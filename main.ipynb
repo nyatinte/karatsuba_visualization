{
 "cells": [
  {
   "cell_type": "code",
   "execution_count": 1,
   "metadata": {},
   "outputs": [
    {
     "name": "stdout",
     "output_type": "stream",
     "text": [
      "計算回数=25\n",
      "1082152022374638\n",
      "(a-b)*(c-d)=-4444*4444=-19749136\n",
      "\t\t(a-b)*(c-d)=-101*0=0\n",
      "\t\tbd=56*44=2464\n",
      "\t\t\t\t(a-b)*(c-d)=-1*0=0\n",
      "\t\t\t\tbd=6*4=24\n",
      "\t\t\t\tac=5*4=20\n",
      "\t\tac=-45*44=-1980\n",
      "\t\t\t\t(a-b)*(c-d)=-10*0=0\n",
      "\t\t\t\tbd=5*4=20\n",
      "\t\t\t\tac=-5*4=-20\n",
      "bd=5678*4321=24534638\n",
      "\t\t(a-b)*(c-d)=-22*22=-484\n",
      "\t\t\t\t(a-b)*(c-d)=-11*0=0\n",
      "\t\t\t\tbd=8*2=16\n",
      "\t\t\t\tac=-3*2=-6\n",
      "\t\tbd=78*21=1638\n",
      "\t\t\t\t(a-b)*(c-d)=-1*1=-1\n",
      "\t\t\t\tbd=8*1=8\n",
      "\t\t\t\tac=7*2=14\n",
      "\t\tac=56*43=2408\n",
      "\t\t\t\t(a-b)*(c-d)=-1*1=-1\n",
      "\t\t\t\tbd=6*3=18\n",
      "\t\t\t\tac=5*4=20\n",
      "ac=1234*8765=10816010\n",
      "\t\t(a-b)*(c-d)=-22*22=-484\n",
      "\t\t\t\t(a-b)*(c-d)=-11*0=0\n",
      "\t\t\t\tbd=8*2=16\n",
      "\t\t\t\tac=-3*2=-6\n",
      "\t\tbd=34*65=2210\n",
      "\t\t\t\t(a-b)*(c-d)=-1*1=-1\n",
      "\t\t\t\tbd=4*5=20\n",
      "\t\t\t\tac=3*6=18\n",
      "\t\tac=12*87=1044\n",
      "\t\t\t\t(a-b)*(c-d)=-1*1=-1\n",
      "\t\t\t\tbd=2*7=14\n",
      "\t\t\t\tac=1*8=8\n"
     ]
    }
   ],
   "source": [
    "# 分割統治法\n",
    "# 12345678 × 87654321\n",
    "count =  0\n",
    "indent = 0\n",
    "stack = []\n",
    "def karatsuba(x, y, indent):\n",
    "    tab = '\\t' * indent\n",
    "    indent += 2\n",
    "    global count\n",
    "    if len(str(x)) == 1 or len(str(y)) == 1:\n",
    "        count += 1\n",
    "        return x * y\n",
    "    else:\n",
    "        n = max(len(str(abs(x))), len(str(abs(y))))\n",
    "        n2 = n // 2\n",
    "        a, b = divmod(x, 10 ** n2)\n",
    "        c, d = divmod(y, 10 ** n2)\n",
    "        ac = karatsuba(a, c, indent)\n",
    "        stack.append(f'{tab}ac={a}*{c}={ac}')\n",
    "        bd = karatsuba(b, d, indent)\n",
    "        stack.append(f'{tab}bd={b}*{d}={bd}')\n",
    "        ab_cd = karatsuba(a-b, c-d, indent)\n",
    "        stack.append(f'{tab}(a-b)*(c-d)={(a-b)}*{(c-d)}={ab_cd}')\n",
    "        return ac * 10 ** (n) + (ac + bd - ab_cd) * 10 ** n2 + bd\n",
    "\n",
    "\n",
    "# 実行\n",
    "stack.append(karatsuba(12345678, 87654321, 0))\n",
    "print(f'計算回数={count}')\n",
    "for s in stack[::-1]:\n",
    "    print(s)"
   ]
  },
  {
   "cell_type": "code",
   "execution_count": 2,
   "metadata": {},
   "outputs": [
    {
     "data": {
      "text/plain": [
       "True"
      ]
     },
     "execution_count": 2,
     "metadata": {},
     "output_type": "execute_result"
    }
   ],
   "source": [
    "# 検算\n",
    "ac = 10816010\n",
    "bd = 24534638\n",
    "ab_cd = -19749136\n",
    "(ac * 10**8 + (ac + bd - ab_cd) * 10**4 + bd) == 12345678 * 87654321"
   ]
  },
  {
   "cell_type": "code",
   "execution_count": null,
   "metadata": {},
   "outputs": [],
   "source": []
  }
 ],
 "metadata": {
  "kernelspec": {
   "display_name": "Python 3.11.0 64-bit",
   "language": "python",
   "name": "python3"
  },
  "language_info": {
   "codemirror_mode": {
    "name": "ipython",
    "version": 3
   },
   "file_extension": ".py",
   "mimetype": "text/x-python",
   "name": "python",
   "nbconvert_exporter": "python",
   "pygments_lexer": "ipython3",
   "version": "3.11.0"
  },
  "orig_nbformat": 4,
  "vscode": {
   "interpreter": {
    "hash": "1a1af0ee75eeea9e2e1ee996c87e7a2b11a0bebd85af04bb136d915cefc0abce"
   }
  }
 },
 "nbformat": 4,
 "nbformat_minor": 2
}
